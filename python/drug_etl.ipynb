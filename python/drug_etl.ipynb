{
 "cells": [
  {
   "cell_type": "code",
<<<<<<< HEAD
   "execution_count": 6,
=======
   "execution_count": 1,
>>>>>>> 4618caba425a8e85ce9187626a7fd3fa15e99ff4
   "metadata": {},
   "outputs": [],
   "source": [
    "import pandas as pd"
   ]
  },
  {
   "cell_type": "code",
<<<<<<< HEAD
   "execution_count": 7,
=======
   "execution_count": 2,
>>>>>>> 4618caba425a8e85ce9187626a7fd3fa15e99ff4
   "metadata": {},
   "outputs": [],
   "source": [
    "columns = ['ID', 'Age', 'Gender', 'Education', 'Country', 'Ethnicity', 'Nscore',\n",
    "              'Escore', 'Oscore', 'Ascore', 'Cscore', 'Impulsive', 'SS', 'Alcohol',\n",
    "              'Amphet', 'Amyl', 'Benzos', 'Caff', 'Cannabis', 'Choc', 'Coke', 'Crack', 'Ecstasy',\n",
    "              'Heroin', 'Ketamine', 'Legalh', 'LSD', 'Meth', 'Mushrooms', 'Nicotine',\n",
    "              'Semer', 'VSA']"
   ]
  },
  {
   "cell_type": "code",
<<<<<<< HEAD
   "execution_count": 8,
=======
   "execution_count": 3,
>>>>>>> 4618caba425a8e85ce9187626a7fd3fa15e99ff4
   "metadata": {},
   "outputs": [
    {
     "data": {
      "text/plain": [
       "32"
      ]
     },
<<<<<<< HEAD
     "execution_count": 8,
=======
     "execution_count": 3,
>>>>>>> 4618caba425a8e85ce9187626a7fd3fa15e99ff4
     "metadata": {},
     "output_type": "execute_result"
    }
   ],
   "source": [
    "len(columns)"
   ]
  },
  {
   "cell_type": "code",
<<<<<<< HEAD
   "execution_count": 10,
=======
   "execution_count": 4,
>>>>>>> 4618caba425a8e85ce9187626a7fd3fa15e99ff4
   "metadata": {},
   "outputs": [
    {
     "data": {
      "text/html": [
       "<div>\n",
       "<style scoped>\n",
       "    .dataframe tbody tr th:only-of-type {\n",
       "        vertical-align: middle;\n",
       "    }\n",
       "\n",
       "    .dataframe tbody tr th {\n",
       "        vertical-align: top;\n",
       "    }\n",
       "\n",
       "    .dataframe thead th {\n",
       "        text-align: right;\n",
       "    }\n",
       "</style>\n",
       "<table border=\"1\" class=\"dataframe\">\n",
       "  <thead>\n",
       "    <tr style=\"text-align: right;\">\n",
       "      <th></th>\n",
       "      <th>ID</th>\n",
       "      <th>Age</th>\n",
       "      <th>Gender</th>\n",
       "      <th>Education</th>\n",
       "      <th>Country</th>\n",
       "      <th>Ethnicity</th>\n",
       "      <th>Nscore</th>\n",
       "      <th>Escore</th>\n",
       "      <th>Oscore</th>\n",
       "      <th>Ascore</th>\n",
       "      <th>...</th>\n",
       "      <th>Ecstasy</th>\n",
       "      <th>Heroin</th>\n",
       "      <th>Ketamine</th>\n",
       "      <th>Legalh</th>\n",
       "      <th>LSD</th>\n",
       "      <th>Meth</th>\n",
       "      <th>Mushrooms</th>\n",
       "      <th>Nicotine</th>\n",
       "      <th>Semer</th>\n",
       "      <th>VSA</th>\n",
       "    </tr>\n",
       "  </thead>\n",
       "  <tbody>\n",
       "    <tr>\n",
       "      <td>0</td>\n",
       "      <td>ID</td>\n",
       "      <td>Age</td>\n",
       "      <td>Gender</td>\n",
       "      <td>Education</td>\n",
       "      <td>Country</td>\n",
       "      <td>Ethnicity</td>\n",
       "      <td>Nscore</td>\n",
       "      <td>Escore</td>\n",
       "      <td>Oscore</td>\n",
       "      <td>Ascore</td>\n",
       "      <td>...</td>\n",
       "      <td>Ecstasy</td>\n",
       "      <td>Heroin</td>\n",
       "      <td>Ketamine</td>\n",
       "      <td>Legalh</td>\n",
       "      <td>LSD</td>\n",
       "      <td>Meth</td>\n",
       "      <td>Mushrooms</td>\n",
       "      <td>Nicotine</td>\n",
       "      <td>Semer</td>\n",
       "      <td>VSA</td>\n",
       "    </tr>\n",
       "    <tr>\n",
       "      <td>1</td>\n",
       "      <td>1</td>\n",
       "      <td>0.49788000000000004</td>\n",
       "      <td>0.48246000000000006</td>\n",
       "      <td>-0.059210000000000006</td>\n",
       "      <td>0.9608200000000001</td>\n",
       "      <td>0.126</td>\n",
       "      <td>0.31287</td>\n",
       "      <td>-0.57545</td>\n",
       "      <td>-0.58331</td>\n",
       "      <td>-0.91699</td>\n",
       "      <td>...</td>\n",
       "      <td>CL0</td>\n",
       "      <td>CL0</td>\n",
       "      <td>CL0</td>\n",
       "      <td>CL0</td>\n",
       "      <td>CL0</td>\n",
       "      <td>CL0</td>\n",
       "      <td>CL0</td>\n",
       "      <td>CL2</td>\n",
       "      <td>CL0</td>\n",
       "      <td>CL0</td>\n",
       "    </tr>\n",
       "    <tr>\n",
       "      <td>2</td>\n",
       "      <td>2</td>\n",
       "      <td>-0.07854</td>\n",
       "      <td>-0.48246000000000006</td>\n",
       "      <td>1.98437</td>\n",
       "      <td>0.9608200000000001</td>\n",
       "      <td>-0.31685</td>\n",
       "      <td>-0.67825</td>\n",
       "      <td>1.9388599999999998</td>\n",
       "      <td>1.43533</td>\n",
       "      <td>0.7609600000000001</td>\n",
       "      <td>...</td>\n",
       "      <td>CL4</td>\n",
       "      <td>CL0</td>\n",
       "      <td>CL2</td>\n",
       "      <td>CL0</td>\n",
       "      <td>CL2</td>\n",
       "      <td>CL3</td>\n",
       "      <td>CL0</td>\n",
       "      <td>CL4</td>\n",
       "      <td>CL0</td>\n",
       "      <td>CL0</td>\n",
       "    </tr>\n",
       "    <tr>\n",
       "      <td>3</td>\n",
       "      <td>3</td>\n",
       "      <td>0.49788000000000004</td>\n",
       "      <td>-0.48246000000000006</td>\n",
       "      <td>-0.059210000000000006</td>\n",
       "      <td>0.9608200000000001</td>\n",
       "      <td>-0.31685</td>\n",
       "      <td>-0.46725</td>\n",
       "      <td>0.80523</td>\n",
       "      <td>-0.8473200000000001</td>\n",
       "      <td>-1.6209</td>\n",
       "      <td>...</td>\n",
       "      <td>CL0</td>\n",
       "      <td>CL0</td>\n",
       "      <td>CL0</td>\n",
       "      <td>CL0</td>\n",
       "      <td>CL0</td>\n",
       "      <td>CL0</td>\n",
       "      <td>CL1</td>\n",
       "      <td>CL0</td>\n",
       "      <td>CL0</td>\n",
       "      <td>CL0</td>\n",
       "    </tr>\n",
       "    <tr>\n",
       "      <td>4</td>\n",
       "      <td>4</td>\n",
       "      <td>-0.9519700000000001</td>\n",
       "      <td>0.48246000000000006</td>\n",
       "      <td>1.16365</td>\n",
       "      <td>0.9608200000000001</td>\n",
       "      <td>-0.31685</td>\n",
       "      <td>-0.14882</td>\n",
       "      <td>-0.80615</td>\n",
       "      <td>-0.019280000000000002</td>\n",
       "      <td>0.59042</td>\n",
       "      <td>...</td>\n",
       "      <td>CL0</td>\n",
       "      <td>CL0</td>\n",
       "      <td>CL2</td>\n",
       "      <td>CL0</td>\n",
       "      <td>CL0</td>\n",
       "      <td>CL0</td>\n",
       "      <td>CL0</td>\n",
       "      <td>CL2</td>\n",
       "      <td>CL0</td>\n",
       "      <td>CL0</td>\n",
       "    </tr>\n",
       "  </tbody>\n",
       "</table>\n",
       "<p>5 rows × 32 columns</p>\n",
       "</div>"
      ],
      "text/plain": [
       "   ID                  Age                Gender              Education  \\\n",
       "0  ID                  Age                Gender              Education   \n",
       "1   1  0.49788000000000004   0.48246000000000006  -0.059210000000000006   \n",
       "2   2             -0.07854  -0.48246000000000006                1.98437   \n",
       "3   3  0.49788000000000004  -0.48246000000000006  -0.059210000000000006   \n",
       "4   4  -0.9519700000000001   0.48246000000000006                1.16365   \n",
       "\n",
       "              Country  Ethnicity    Nscore              Escore  \\\n",
       "0             Country  Ethnicity    Nscore              Escore   \n",
       "1  0.9608200000000001      0.126   0.31287            -0.57545   \n",
       "2  0.9608200000000001   -0.31685  -0.67825  1.9388599999999998   \n",
       "3  0.9608200000000001   -0.31685  -0.46725             0.80523   \n",
       "4  0.9608200000000001   -0.31685  -0.14882            -0.80615   \n",
       "\n",
       "                  Oscore              Ascore  ...  Ecstasy  Heroin  Ketamine  \\\n",
       "0                 Oscore              Ascore  ...  Ecstasy  Heroin  Ketamine   \n",
       "1               -0.58331            -0.91699  ...      CL0     CL0       CL0   \n",
       "2                1.43533  0.7609600000000001  ...      CL4     CL0       CL2   \n",
       "3    -0.8473200000000001             -1.6209  ...      CL0     CL0       CL0   \n",
       "4  -0.019280000000000002             0.59042  ...      CL0     CL0       CL2   \n",
       "\n",
       "   Legalh  LSD  Meth  Mushrooms  Nicotine  Semer  VSA  \n",
       "0  Legalh  LSD  Meth  Mushrooms  Nicotine  Semer  VSA  \n",
       "1     CL0  CL0   CL0        CL0       CL2    CL0  CL0  \n",
       "2     CL0  CL2   CL3        CL0       CL4    CL0  CL0  \n",
       "3     CL0  CL0   CL0        CL1       CL0    CL0  CL0  \n",
       "4     CL0  CL0   CL0        CL0       CL2    CL0  CL0  \n",
       "\n",
       "[5 rows x 32 columns]"
      ]
     },
<<<<<<< HEAD
     "execution_count": 10,
=======
     "execution_count": 4,
>>>>>>> 4618caba425a8e85ce9187626a7fd3fa15e99ff4
     "metadata": {},
     "output_type": "execute_result"
    }
   ],
   "source": [
<<<<<<< HEAD
    "path = '../raw_data/drug_consumption.csv'\n",
=======
    "path = '../raw_data/drug_consumption.data'\n",
>>>>>>> 4618caba425a8e85ce9187626a7fd3fa15e99ff4
    "df = pd.read_csv(path, names=columns)\n",
    "df.head()"
   ]
  },
  {
   "cell_type": "code",
   "execution_count": 5,
   "metadata": {},
   "outputs": [
    {
     "ename": "NameError",
     "evalue": "name 'df' is not defined",
     "output_type": "error",
     "traceback": [
      "\u001b[0;31m---------------------------------------------------------------------------\u001b[0m",
      "\u001b[0;31mNameError\u001b[0m                                 Traceback (most recent call last)",
      "\u001b[0;32m<ipython-input-5-b4e5896e087d>\u001b[0m in \u001b[0;36m<module>\u001b[0;34m()\u001b[0m\n\u001b[0;32m----> 1\u001b[0;31m \u001b[0mdf\u001b[0m\u001b[0;34m.\u001b[0m\u001b[0mto_csv\u001b[0m\u001b[0;34m(\u001b[0m\u001b[0mpath_or_buf\u001b[0m\u001b[0;34m=\u001b[0m\u001b[0;34m'../write_data/drug_consumption.csv'\u001b[0m\u001b[0;34m,\u001b[0m \u001b[0mindex\u001b[0m\u001b[0;34m=\u001b[0m\u001b[0;32mFalse\u001b[0m\u001b[0;34m)\u001b[0m\u001b[0;34m\u001b[0m\u001b[0m\n\u001b[0m",
      "\u001b[0;31mNameError\u001b[0m: name 'df' is not defined"
     ]
    }
   ],
   "source": [
    "# df.to_csv(path_or_buf='../write_data/drug_consumption.csv', index=False)"
   ]
  },
  {
   "cell_type": "code",
   "execution_count": 6,
   "metadata": {},
   "outputs": [],
   "source": [
    "# pd.read_csv('../write_data/drug_consumption.csv').head()"
   ]
  },
  {
   "cell_type": "code",
   "execution_count": 72,
   "metadata": {},
   "outputs": [
    {
     "data": {
      "text/plain": [
       "['ID',\n",
       " 'Age',\n",
       " 'Gender',\n",
       " 'Education',\n",
       " 'Country',\n",
       " 'Ethnicity',\n",
       " 'Nscore',\n",
       " 'Escore',\n",
       " 'Oscore',\n",
       " 'Ascore',\n",
       " 'Cscore',\n",
       " 'Impulsive',\n",
       " 'SS']"
      ]
     },
     "execution_count": 72,
     "metadata": {},
     "output_type": "execute_result"
    }
   ],
   "source": [
    "features = df.columns.tolist()[:13]\n",
    "features"
   ]
  },
  {
   "cell_type": "code",
   "execution_count": 6,
   "metadata": {},
   "outputs": [
    {
     "data": {
      "text/plain": [
       "CL0    1877\n",
       "Name: Semer, dtype: int64"
      ]
     },
     "execution_count": 6,
     "metadata": {},
     "output_type": "execute_result"
    }
   ],
   "source": [
    "#cleaning data that has responders with response >0  for drug 'Semer' which is fictious\n",
    "df_clean = df[df['Semer']=='CL0']\n",
    "df_clean['Semer'].value_counts()"
   ]
  },
  {
   "cell_type": "code",
   "execution_count": 59,
   "metadata": {},
   "outputs": [],
   "source": [
    "#dataframe for drug user as 1 and non-user as 0\n",
    "df_user_nonuser = df_clean.copy()\n",
    "df_user_nonuser.replace(['CL2', 'CL3', 'CL4', 'CL5', 'CL6'], 1, inplace=True)\n",
    "df_user_nonuser.replace(['CL0', 'CL1'], 0, inplace=True)"
   ]
  },
  {
   "cell_type": "code",
   "execution_count": 60,
   "metadata": {},
   "outputs": [
    {
     "data": {
      "text/html": [
       "<div>\n",
       "<style scoped>\n",
       "    .dataframe tbody tr th:only-of-type {\n",
       "        vertical-align: middle;\n",
       "    }\n",
       "\n",
       "    .dataframe tbody tr th {\n",
       "        vertical-align: top;\n",
       "    }\n",
       "\n",
       "    .dataframe thead th {\n",
       "        text-align: right;\n",
       "    }\n",
       "</style>\n",
       "<table border=\"1\" class=\"dataframe\">\n",
       "  <thead>\n",
       "    <tr style=\"text-align: right;\">\n",
       "      <th></th>\n",
       "      <th>ID</th>\n",
       "      <th>Age</th>\n",
       "      <th>Gender</th>\n",
       "      <th>Education</th>\n",
       "      <th>Country</th>\n",
       "      <th>Ethnicity</th>\n",
       "      <th>Nscore</th>\n",
       "      <th>Escore</th>\n",
       "      <th>Oscore</th>\n",
       "      <th>Ascore</th>\n",
       "      <th>...</th>\n",
       "      <th>Ecstasy</th>\n",
       "      <th>Heroin</th>\n",
       "      <th>Ketamine</th>\n",
       "      <th>Legalh</th>\n",
       "      <th>LSD</th>\n",
       "      <th>Meth</th>\n",
       "      <th>Mushrooms</th>\n",
       "      <th>Nicotine</th>\n",
       "      <th>Semer</th>\n",
       "      <th>VSA</th>\n",
       "    </tr>\n",
       "  </thead>\n",
       "  <tbody>\n",
       "    <tr>\n",
       "      <td>0</td>\n",
       "      <td>1</td>\n",
       "      <td>0.49788</td>\n",
       "      <td>0.48246</td>\n",
       "      <td>-0.05921</td>\n",
       "      <td>0.96082</td>\n",
       "      <td>0.12600</td>\n",
       "      <td>0.31287</td>\n",
       "      <td>-0.57545</td>\n",
       "      <td>-0.58331</td>\n",
       "      <td>-0.91699</td>\n",
       "      <td>...</td>\n",
       "      <td>0</td>\n",
       "      <td>0</td>\n",
       "      <td>0</td>\n",
       "      <td>0</td>\n",
       "      <td>0</td>\n",
       "      <td>0</td>\n",
       "      <td>0</td>\n",
       "      <td>1</td>\n",
       "      <td>0</td>\n",
       "      <td>0</td>\n",
       "    </tr>\n",
       "    <tr>\n",
       "      <td>1</td>\n",
       "      <td>2</td>\n",
       "      <td>-0.07854</td>\n",
       "      <td>-0.48246</td>\n",
       "      <td>1.98437</td>\n",
       "      <td>0.96082</td>\n",
       "      <td>-0.31685</td>\n",
       "      <td>-0.67825</td>\n",
       "      <td>1.93886</td>\n",
       "      <td>1.43533</td>\n",
       "      <td>0.76096</td>\n",
       "      <td>...</td>\n",
       "      <td>1</td>\n",
       "      <td>0</td>\n",
       "      <td>1</td>\n",
       "      <td>0</td>\n",
       "      <td>1</td>\n",
       "      <td>1</td>\n",
       "      <td>0</td>\n",
       "      <td>1</td>\n",
       "      <td>0</td>\n",
       "      <td>0</td>\n",
       "    </tr>\n",
       "    <tr>\n",
       "      <td>2</td>\n",
       "      <td>3</td>\n",
       "      <td>0.49788</td>\n",
       "      <td>-0.48246</td>\n",
       "      <td>-0.05921</td>\n",
       "      <td>0.96082</td>\n",
       "      <td>-0.31685</td>\n",
       "      <td>-0.46725</td>\n",
       "      <td>0.80523</td>\n",
       "      <td>-0.84732</td>\n",
       "      <td>-1.62090</td>\n",
       "      <td>...</td>\n",
       "      <td>0</td>\n",
       "      <td>0</td>\n",
       "      <td>0</td>\n",
       "      <td>0</td>\n",
       "      <td>0</td>\n",
       "      <td>0</td>\n",
       "      <td>0</td>\n",
       "      <td>0</td>\n",
       "      <td>0</td>\n",
       "      <td>0</td>\n",
       "    </tr>\n",
       "    <tr>\n",
       "      <td>3</td>\n",
       "      <td>4</td>\n",
       "      <td>-0.95197</td>\n",
       "      <td>0.48246</td>\n",
       "      <td>1.16365</td>\n",
       "      <td>0.96082</td>\n",
       "      <td>-0.31685</td>\n",
       "      <td>-0.14882</td>\n",
       "      <td>-0.80615</td>\n",
       "      <td>-0.01928</td>\n",
       "      <td>0.59042</td>\n",
       "      <td>...</td>\n",
       "      <td>0</td>\n",
       "      <td>0</td>\n",
       "      <td>1</td>\n",
       "      <td>0</td>\n",
       "      <td>0</td>\n",
       "      <td>0</td>\n",
       "      <td>0</td>\n",
       "      <td>1</td>\n",
       "      <td>0</td>\n",
       "      <td>0</td>\n",
       "    </tr>\n",
       "    <tr>\n",
       "      <td>4</td>\n",
       "      <td>5</td>\n",
       "      <td>0.49788</td>\n",
       "      <td>0.48246</td>\n",
       "      <td>1.98437</td>\n",
       "      <td>0.96082</td>\n",
       "      <td>-0.31685</td>\n",
       "      <td>0.73545</td>\n",
       "      <td>-1.63340</td>\n",
       "      <td>-0.45174</td>\n",
       "      <td>-0.30172</td>\n",
       "      <td>...</td>\n",
       "      <td>0</td>\n",
       "      <td>0</td>\n",
       "      <td>0</td>\n",
       "      <td>0</td>\n",
       "      <td>0</td>\n",
       "      <td>0</td>\n",
       "      <td>1</td>\n",
       "      <td>1</td>\n",
       "      <td>0</td>\n",
       "      <td>0</td>\n",
       "    </tr>\n",
       "  </tbody>\n",
       "</table>\n",
       "<p>5 rows × 32 columns</p>\n",
       "</div>"
      ],
      "text/plain": [
       "   ID      Age   Gender  Education  Country  Ethnicity   Nscore   Escore  \\\n",
       "0   1  0.49788  0.48246   -0.05921  0.96082    0.12600  0.31287 -0.57545   \n",
       "1   2 -0.07854 -0.48246    1.98437  0.96082   -0.31685 -0.67825  1.93886   \n",
       "2   3  0.49788 -0.48246   -0.05921  0.96082   -0.31685 -0.46725  0.80523   \n",
       "3   4 -0.95197  0.48246    1.16365  0.96082   -0.31685 -0.14882 -0.80615   \n",
       "4   5  0.49788  0.48246    1.98437  0.96082   -0.31685  0.73545 -1.63340   \n",
       "\n",
       "    Oscore   Ascore  ...  Ecstasy  Heroin  Ketamine  Legalh  LSD  Meth  \\\n",
       "0 -0.58331 -0.91699  ...        0       0         0       0    0     0   \n",
       "1  1.43533  0.76096  ...        1       0         1       0    1     1   \n",
       "2 -0.84732 -1.62090  ...        0       0         0       0    0     0   \n",
       "3 -0.01928  0.59042  ...        0       0         1       0    0     0   \n",
       "4 -0.45174 -0.30172  ...        0       0         0       0    0     0   \n",
       "\n",
       "   Mushrooms  Nicotine  Semer  VSA  \n",
       "0          0         1      0    0  \n",
       "1          0         1      0    0  \n",
       "2          0         0      0    0  \n",
       "3          0         1      0    0  \n",
       "4          1         1      0    0  \n",
       "\n",
       "[5 rows x 32 columns]"
      ]
     },
     "execution_count": 60,
     "metadata": {},
     "output_type": "execute_result"
    }
   ],
   "source": [
    "df_user_nonuser.head()"
   ]
  },
  {
   "cell_type": "code",
   "execution_count": 125,
   "metadata": {},
   "outputs": [],
   "source": [
    "from sklearn.linear_model import LogisticRegression\n",
    "from sklearn.tree import DecisionTreeClassifier\n",
    "from sklearn.ensemble import RandomForestClassifier, BaggingClassifier \n",
    "from sklearn.model_selection import train_test_split\n",
    "from collections import Counter\n",
    "from sklearn.metrics import accuracy_score, confusion_matrix, f1_score, recall_score, precision_score\n",
    "import seaborn as sns\n",
    "import matplotlib.pyplot as plt    "
   ]
  },
  {
   "cell_type": "code",
   "execution_count": 127,
   "metadata": {},
   "outputs": [],
   "source": [
    "def classification(X, y, classifier = None):\n",
    "    \"\"\"This function runs a logistic regression with X as input features\n",
    "        and Y as target. It returns f1_score, confusion_matrix and accuracy\"\"\"\n",
    "    X_train, X_test, y_train, y_test = train_test_split(X, y, test_size=0.20, random_state=42)\n",
    "    if classifier == 'LogisticRegression':\n",
    "        model = LogisticRegression(solver='liblinear')\n",
    "        model.fit(X_train, y_train)\n",
    "        \n",
    "    elif classifier == 'DecisionTreeClassifier':\n",
    "        model = DecisionTreeClassifier(max_depth=4)\n",
    "        model.fit(X_train, y_train)\n",
    "        \n",
    "    elif classifier == 'RandomForestClassifier':\n",
    "        model = RandomForestClassifier(n_estimators=10, max_depth=4)\n",
    "        model.fit(X_train, y_train)\n",
    "        \n",
    "    y_test_pred = model.predict(X_test)\n",
    "    f1_scr = f1_score(y_test, y_test_pred)\n",
    "    conf_matrix = confusion_matrix(y_test, y_test_pred)\n",
    "    accuracy = accuracy_score(y_test, y_test_pred)\n",
    "    precision = precision_score(y_test, y_test_pred)\n",
    "    recall = recall_score(y_test, y_test_pred)\n",
    "    results = {'f1_score': round(f1_scr,2), 'accuracy':round(accuracy, 2),\n",
    "               'precision':round(precision, 2), 'recall':round(recall, 2)}\n",
    "    #plotting confusion matrix\n",
    "    ax= plt.subplot()\n",
    "    sns.heatmap(conf_matrix, annot=True, ax = ax); #annot=True to annotate cells\n",
    "    # labels, title and ticks\n",
    "    ax.set_xlabel('Predicted labels');ax.set_ylabel('True labels'); \n",
    "    ax.set_title('Confusion Matrix'); \n",
    "    ax.xaxis.set_ticklabels(['user', 'non_user']); ax.yaxis.set_ticklabels(['non_user', 'user'])\n",
    "    return results"
   ]
  },
  {
   "cell_type": "code",
<<<<<<< HEAD
   "execution_count": 11,
   "metadata": {},
   "outputs": [
    {
     "ename": "KeyError",
     "evalue": "'CL0.12'",
     "output_type": "error",
     "traceback": [
      "\u001b[0;31m---------------------------------------------------------------------------\u001b[0m",
      "\u001b[0;31mKeyError\u001b[0m                                  Traceback (most recent call last)",
      "\u001b[0;32m//anaconda3/envs/learn-env/lib/python3.6/site-packages/pandas/core/indexes/base.py\u001b[0m in \u001b[0;36mget_loc\u001b[0;34m(self, key, method, tolerance)\u001b[0m\n\u001b[1;32m   2896\u001b[0m             \u001b[0;32mtry\u001b[0m\u001b[0;34m:\u001b[0m\u001b[0;34m\u001b[0m\u001b[0m\n\u001b[0;32m-> 2897\u001b[0;31m                 \u001b[0;32mreturn\u001b[0m \u001b[0mself\u001b[0m\u001b[0;34m.\u001b[0m\u001b[0m_engine\u001b[0m\u001b[0;34m.\u001b[0m\u001b[0mget_loc\u001b[0m\u001b[0;34m(\u001b[0m\u001b[0mkey\u001b[0m\u001b[0;34m)\u001b[0m\u001b[0;34m\u001b[0m\u001b[0m\n\u001b[0m\u001b[1;32m   2898\u001b[0m             \u001b[0;32mexcept\u001b[0m \u001b[0mKeyError\u001b[0m\u001b[0;34m:\u001b[0m\u001b[0;34m\u001b[0m\u001b[0m\n",
      "\u001b[0;32mpandas/_libs/index.pyx\u001b[0m in \u001b[0;36mpandas._libs.index.IndexEngine.get_loc\u001b[0;34m()\u001b[0m\n",
      "\u001b[0;32mpandas/_libs/index.pyx\u001b[0m in \u001b[0;36mpandas._libs.index.IndexEngine.get_loc\u001b[0;34m()\u001b[0m\n",
      "\u001b[0;32mpandas/_libs/hashtable_class_helper.pxi\u001b[0m in \u001b[0;36mpandas._libs.hashtable.PyObjectHashTable.get_item\u001b[0;34m()\u001b[0m\n",
      "\u001b[0;32mpandas/_libs/hashtable_class_helper.pxi\u001b[0m in \u001b[0;36mpandas._libs.hashtable.PyObjectHashTable.get_item\u001b[0;34m()\u001b[0m\n",
      "\u001b[0;31mKeyError\u001b[0m: 'CL0.12'",
      "\nDuring handling of the above exception, another exception occurred:\n",
      "\u001b[0;31mKeyError\u001b[0m                                  Traceback (most recent call last)",
      "\u001b[0;32m<ipython-input-11-a061f21f652c>\u001b[0m in \u001b[0;36m<module>\u001b[0;34m()\u001b[0m\n\u001b[0;32m----> 1\u001b[0;31m \u001b[0mdf\u001b[0m\u001b[0;34m[\u001b[0m\u001b[0;34m'CL0.12'\u001b[0m\u001b[0;34m]\u001b[0m\u001b[0;34m.\u001b[0m\u001b[0mvalue_counts\u001b[0m\u001b[0;34m(\u001b[0m\u001b[0;34m)\u001b[0m\u001b[0;34m\u001b[0m\u001b[0m\n\u001b[0m",
      "\u001b[0;32m//anaconda3/envs/learn-env/lib/python3.6/site-packages/pandas/core/frame.py\u001b[0m in \u001b[0;36m__getitem__\u001b[0;34m(self, key)\u001b[0m\n\u001b[1;32m   2978\u001b[0m             \u001b[0;32mif\u001b[0m \u001b[0mself\u001b[0m\u001b[0;34m.\u001b[0m\u001b[0mcolumns\u001b[0m\u001b[0;34m.\u001b[0m\u001b[0mnlevels\u001b[0m \u001b[0;34m>\u001b[0m \u001b[0;36m1\u001b[0m\u001b[0;34m:\u001b[0m\u001b[0;34m\u001b[0m\u001b[0m\n\u001b[1;32m   2979\u001b[0m                 \u001b[0;32mreturn\u001b[0m \u001b[0mself\u001b[0m\u001b[0;34m.\u001b[0m\u001b[0m_getitem_multilevel\u001b[0m\u001b[0;34m(\u001b[0m\u001b[0mkey\u001b[0m\u001b[0;34m)\u001b[0m\u001b[0;34m\u001b[0m\u001b[0m\n\u001b[0;32m-> 2980\u001b[0;31m             \u001b[0mindexer\u001b[0m \u001b[0;34m=\u001b[0m \u001b[0mself\u001b[0m\u001b[0;34m.\u001b[0m\u001b[0mcolumns\u001b[0m\u001b[0;34m.\u001b[0m\u001b[0mget_loc\u001b[0m\u001b[0;34m(\u001b[0m\u001b[0mkey\u001b[0m\u001b[0;34m)\u001b[0m\u001b[0;34m\u001b[0m\u001b[0m\n\u001b[0m\u001b[1;32m   2981\u001b[0m             \u001b[0;32mif\u001b[0m \u001b[0mis_integer\u001b[0m\u001b[0;34m(\u001b[0m\u001b[0mindexer\u001b[0m\u001b[0;34m)\u001b[0m\u001b[0;34m:\u001b[0m\u001b[0;34m\u001b[0m\u001b[0m\n\u001b[1;32m   2982\u001b[0m                 \u001b[0mindexer\u001b[0m \u001b[0;34m=\u001b[0m \u001b[0;34m[\u001b[0m\u001b[0mindexer\u001b[0m\u001b[0;34m]\u001b[0m\u001b[0;34m\u001b[0m\u001b[0m\n",
      "\u001b[0;32m//anaconda3/envs/learn-env/lib/python3.6/site-packages/pandas/core/indexes/base.py\u001b[0m in \u001b[0;36mget_loc\u001b[0;34m(self, key, method, tolerance)\u001b[0m\n\u001b[1;32m   2897\u001b[0m                 \u001b[0;32mreturn\u001b[0m \u001b[0mself\u001b[0m\u001b[0;34m.\u001b[0m\u001b[0m_engine\u001b[0m\u001b[0;34m.\u001b[0m\u001b[0mget_loc\u001b[0m\u001b[0;34m(\u001b[0m\u001b[0mkey\u001b[0m\u001b[0;34m)\u001b[0m\u001b[0;34m\u001b[0m\u001b[0m\n\u001b[1;32m   2898\u001b[0m             \u001b[0;32mexcept\u001b[0m \u001b[0mKeyError\u001b[0m\u001b[0;34m:\u001b[0m\u001b[0;34m\u001b[0m\u001b[0m\n\u001b[0;32m-> 2899\u001b[0;31m                 \u001b[0;32mreturn\u001b[0m \u001b[0mself\u001b[0m\u001b[0;34m.\u001b[0m\u001b[0m_engine\u001b[0m\u001b[0;34m.\u001b[0m\u001b[0mget_loc\u001b[0m\u001b[0;34m(\u001b[0m\u001b[0mself\u001b[0m\u001b[0;34m.\u001b[0m\u001b[0m_maybe_cast_indexer\u001b[0m\u001b[0;34m(\u001b[0m\u001b[0mkey\u001b[0m\u001b[0;34m)\u001b[0m\u001b[0;34m)\u001b[0m\u001b[0;34m\u001b[0m\u001b[0m\n\u001b[0m\u001b[1;32m   2900\u001b[0m         \u001b[0mindexer\u001b[0m \u001b[0;34m=\u001b[0m \u001b[0mself\u001b[0m\u001b[0;34m.\u001b[0m\u001b[0mget_indexer\u001b[0m\u001b[0;34m(\u001b[0m\u001b[0;34m[\u001b[0m\u001b[0mkey\u001b[0m\u001b[0;34m]\u001b[0m\u001b[0;34m,\u001b[0m \u001b[0mmethod\u001b[0m\u001b[0;34m=\u001b[0m\u001b[0mmethod\u001b[0m\u001b[0;34m,\u001b[0m \u001b[0mtolerance\u001b[0m\u001b[0;34m=\u001b[0m\u001b[0mtolerance\u001b[0m\u001b[0;34m)\u001b[0m\u001b[0;34m\u001b[0m\u001b[0m\n\u001b[1;32m   2901\u001b[0m         \u001b[0;32mif\u001b[0m \u001b[0mindexer\u001b[0m\u001b[0;34m.\u001b[0m\u001b[0mndim\u001b[0m \u001b[0;34m>\u001b[0m \u001b[0;36m1\u001b[0m \u001b[0;32mor\u001b[0m \u001b[0mindexer\u001b[0m\u001b[0;34m.\u001b[0m\u001b[0msize\u001b[0m \u001b[0;34m>\u001b[0m \u001b[0;36m1\u001b[0m\u001b[0;34m:\u001b[0m\u001b[0;34m\u001b[0m\u001b[0m\n",
      "\u001b[0;32mpandas/_libs/index.pyx\u001b[0m in \u001b[0;36mpandas._libs.index.IndexEngine.get_loc\u001b[0;34m()\u001b[0m\n",
      "\u001b[0;32mpandas/_libs/index.pyx\u001b[0m in \u001b[0;36mpandas._libs.index.IndexEngine.get_loc\u001b[0;34m()\u001b[0m\n",
      "\u001b[0;32mpandas/_libs/hashtable_class_helper.pxi\u001b[0m in \u001b[0;36mpandas._libs.hashtable.PyObjectHashTable.get_item\u001b[0;34m()\u001b[0m\n",
      "\u001b[0;32mpandas/_libs/hashtable_class_helper.pxi\u001b[0m in \u001b[0;36mpandas._libs.hashtable.PyObjectHashTable.get_item\u001b[0;34m()\u001b[0m\n",
      "\u001b[0;31mKeyError\u001b[0m: 'CL0.12'"
     ]
=======
   "execution_count": 129,
   "metadata": {},
   "outputs": [
    {
     "data": {
      "text/plain": [
       "{'f1_score': 0.97, 'accuracy': 0.95, 'precision': 0.95, 'recall': 1.0}"
      ]
     },
     "execution_count": 129,
     "metadata": {},
     "output_type": "execute_result"
    },
    {
     "data": {
      "image/png": "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\n",
      "text/plain": [
       "<Figure size 432x288 with 2 Axes>"
      ]
     },
     "metadata": {
      "needs_background": "light"
     },
     "output_type": "display_data"
>>>>>>> 4618caba425a8e85ce9187626a7fd3fa15e99ff4
    }
   ],
   "source": [
    "X = df_user_nonuser[features]\n",
    "y = df_user_nonuser['Alcohol']\n",
    "\n",
    "classification(X, y, 'RandomForestClassifier')\n"
   ]
  },
  {
   "cell_type": "code",
   "execution_count": 3,
   "metadata": {},
   "outputs": [],
   "source": [
    "from random_forest_model import bag_model"
   ]
  },
  {
   "cell_type": "code",
   "execution_count": 13,
   "metadata": {},
   "outputs": [
    {
     "ename": "ValueError",
     "evalue": "could not convert string to float: 'CL5'",
     "output_type": "error",
     "traceback": [
      "\u001b[0;31m---------------------------------------------------------------------------\u001b[0m",
      "\u001b[0;31mValueError\u001b[0m                                Traceback (most recent call last)",
      "\u001b[0;32m<ipython-input-13-bec19a72da32>\u001b[0m in \u001b[0;36m<module>\u001b[0;34m()\u001b[0m\n\u001b[0;32m----> 1\u001b[0;31m \u001b[0mbag_model\u001b[0m\u001b[0;34m(\u001b[0m\u001b[0mdf\u001b[0m\u001b[0;34m,\u001b[0m \u001b[0;34m'Crack'\u001b[0m\u001b[0;34m,\u001b[0m \u001b[0;36m2\u001b[0m\u001b[0;34m,\u001b[0m \u001b[0;36m20\u001b[0m\u001b[0;34m)\u001b[0m\u001b[0;34m\u001b[0m\u001b[0m\n\u001b[0m",
      "\u001b[0;32m~/data_science/mod5/project/drug_usage_classification_modeling/python/random_forest_model.py\u001b[0m in \u001b[0;36mbag_model\u001b[0;34m(df, target, depth, samples)\u001b[0m\n\u001b[1;32m     22\u001b[0m                        random_state=1)\n\u001b[1;32m     23\u001b[0m \u001b[0;34m\u001b[0m\u001b[0m\n\u001b[0;32m---> 24\u001b[0;31m     \u001b[0mrt\u001b[0m\u001b[0;34m.\u001b[0m\u001b[0mfit\u001b[0m\u001b[0;34m(\u001b[0m\u001b[0mX_train\u001b[0m\u001b[0;34m,\u001b[0m \u001b[0my_train\u001b[0m\u001b[0;34m)\u001b[0m\u001b[0;34m\u001b[0m\u001b[0m\n\u001b[0m\u001b[1;32m     25\u001b[0m     \u001b[0mbag\u001b[0m\u001b[0;34m.\u001b[0m\u001b[0mfit\u001b[0m\u001b[0;34m(\u001b[0m\u001b[0mX_train\u001b[0m\u001b[0;34m,\u001b[0m \u001b[0my_train\u001b[0m\u001b[0;34m)\u001b[0m\u001b[0;34m\u001b[0m\u001b[0m\n\u001b[1;32m     26\u001b[0m \u001b[0;34m\u001b[0m\u001b[0m\n",
      "\u001b[0;32m//anaconda3/envs/learn-env/lib/python3.6/site-packages/sklearn/tree/tree.py\u001b[0m in \u001b[0;36mfit\u001b[0;34m(self, X, y, sample_weight, check_input, X_idx_sorted)\u001b[0m\n\u001b[1;32m   1155\u001b[0m             \u001b[0msample_weight\u001b[0m\u001b[0;34m=\u001b[0m\u001b[0msample_weight\u001b[0m\u001b[0;34m,\u001b[0m\u001b[0;34m\u001b[0m\u001b[0m\n\u001b[1;32m   1156\u001b[0m             \u001b[0mcheck_input\u001b[0m\u001b[0;34m=\u001b[0m\u001b[0mcheck_input\u001b[0m\u001b[0;34m,\u001b[0m\u001b[0;34m\u001b[0m\u001b[0m\n\u001b[0;32m-> 1157\u001b[0;31m             X_idx_sorted=X_idx_sorted)\n\u001b[0m\u001b[1;32m   1158\u001b[0m         \u001b[0;32mreturn\u001b[0m \u001b[0mself\u001b[0m\u001b[0;34m\u001b[0m\u001b[0m\n\u001b[1;32m   1159\u001b[0m \u001b[0;34m\u001b[0m\u001b[0m\n",
      "\u001b[0;32m//anaconda3/envs/learn-env/lib/python3.6/site-packages/sklearn/tree/tree.py\u001b[0m in \u001b[0;36mfit\u001b[0;34m(self, X, y, sample_weight, check_input, X_idx_sorted)\u001b[0m\n\u001b[1;32m    128\u001b[0m         \u001b[0mrandom_state\u001b[0m \u001b[0;34m=\u001b[0m \u001b[0mcheck_random_state\u001b[0m\u001b[0;34m(\u001b[0m\u001b[0mself\u001b[0m\u001b[0;34m.\u001b[0m\u001b[0mrandom_state\u001b[0m\u001b[0;34m)\u001b[0m\u001b[0;34m\u001b[0m\u001b[0m\n\u001b[1;32m    129\u001b[0m         \u001b[0;32mif\u001b[0m \u001b[0mcheck_input\u001b[0m\u001b[0;34m:\u001b[0m\u001b[0;34m\u001b[0m\u001b[0m\n\u001b[0;32m--> 130\u001b[0;31m             \u001b[0mX\u001b[0m \u001b[0;34m=\u001b[0m \u001b[0mcheck_array\u001b[0m\u001b[0;34m(\u001b[0m\u001b[0mX\u001b[0m\u001b[0;34m,\u001b[0m \u001b[0mdtype\u001b[0m\u001b[0;34m=\u001b[0m\u001b[0mDTYPE\u001b[0m\u001b[0;34m,\u001b[0m \u001b[0maccept_sparse\u001b[0m\u001b[0;34m=\u001b[0m\u001b[0;34m\"csc\"\u001b[0m\u001b[0;34m)\u001b[0m\u001b[0;34m\u001b[0m\u001b[0m\n\u001b[0m\u001b[1;32m    131\u001b[0m             \u001b[0my\u001b[0m \u001b[0;34m=\u001b[0m \u001b[0mcheck_array\u001b[0m\u001b[0;34m(\u001b[0m\u001b[0my\u001b[0m\u001b[0;34m,\u001b[0m \u001b[0mensure_2d\u001b[0m\u001b[0;34m=\u001b[0m\u001b[0;32mFalse\u001b[0m\u001b[0;34m,\u001b[0m \u001b[0mdtype\u001b[0m\u001b[0;34m=\u001b[0m\u001b[0;32mNone\u001b[0m\u001b[0;34m)\u001b[0m\u001b[0;34m\u001b[0m\u001b[0m\n\u001b[1;32m    132\u001b[0m             \u001b[0;32mif\u001b[0m \u001b[0missparse\u001b[0m\u001b[0;34m(\u001b[0m\u001b[0mX\u001b[0m\u001b[0;34m)\u001b[0m\u001b[0;34m:\u001b[0m\u001b[0;34m\u001b[0m\u001b[0m\n",
      "\u001b[0;32m//anaconda3/envs/learn-env/lib/python3.6/site-packages/sklearn/utils/validation.py\u001b[0m in \u001b[0;36mcheck_array\u001b[0;34m(array, accept_sparse, accept_large_sparse, dtype, order, copy, force_all_finite, ensure_2d, allow_nd, ensure_min_samples, ensure_min_features, warn_on_dtype, estimator)\u001b[0m\n\u001b[1;32m    494\u001b[0m             \u001b[0;32mtry\u001b[0m\u001b[0;34m:\u001b[0m\u001b[0;34m\u001b[0m\u001b[0m\n\u001b[1;32m    495\u001b[0m                 \u001b[0mwarnings\u001b[0m\u001b[0;34m.\u001b[0m\u001b[0msimplefilter\u001b[0m\u001b[0;34m(\u001b[0m\u001b[0;34m'error'\u001b[0m\u001b[0;34m,\u001b[0m \u001b[0mComplexWarning\u001b[0m\u001b[0;34m)\u001b[0m\u001b[0;34m\u001b[0m\u001b[0m\n\u001b[0;32m--> 496\u001b[0;31m                 \u001b[0marray\u001b[0m \u001b[0;34m=\u001b[0m \u001b[0mnp\u001b[0m\u001b[0;34m.\u001b[0m\u001b[0masarray\u001b[0m\u001b[0;34m(\u001b[0m\u001b[0marray\u001b[0m\u001b[0;34m,\u001b[0m \u001b[0mdtype\u001b[0m\u001b[0;34m=\u001b[0m\u001b[0mdtype\u001b[0m\u001b[0;34m,\u001b[0m \u001b[0morder\u001b[0m\u001b[0;34m=\u001b[0m\u001b[0morder\u001b[0m\u001b[0;34m)\u001b[0m\u001b[0;34m\u001b[0m\u001b[0m\n\u001b[0m\u001b[1;32m    497\u001b[0m             \u001b[0;32mexcept\u001b[0m \u001b[0mComplexWarning\u001b[0m\u001b[0;34m:\u001b[0m\u001b[0;34m\u001b[0m\u001b[0m\n\u001b[1;32m    498\u001b[0m                 raise ValueError(\"Complex data not supported\\n\"\n",
      "\u001b[0;32m//anaconda3/envs/learn-env/lib/python3.6/site-packages/numpy/core/numeric.py\u001b[0m in \u001b[0;36masarray\u001b[0;34m(a, dtype, order)\u001b[0m\n\u001b[1;32m    536\u001b[0m \u001b[0;34m\u001b[0m\u001b[0m\n\u001b[1;32m    537\u001b[0m     \"\"\"\n\u001b[0;32m--> 538\u001b[0;31m     \u001b[0;32mreturn\u001b[0m \u001b[0marray\u001b[0m\u001b[0;34m(\u001b[0m\u001b[0ma\u001b[0m\u001b[0;34m,\u001b[0m \u001b[0mdtype\u001b[0m\u001b[0;34m,\u001b[0m \u001b[0mcopy\u001b[0m\u001b[0;34m=\u001b[0m\u001b[0;32mFalse\u001b[0m\u001b[0;34m,\u001b[0m \u001b[0morder\u001b[0m\u001b[0;34m=\u001b[0m\u001b[0morder\u001b[0m\u001b[0;34m)\u001b[0m\u001b[0;34m\u001b[0m\u001b[0m\n\u001b[0m\u001b[1;32m    539\u001b[0m \u001b[0;34m\u001b[0m\u001b[0m\n\u001b[1;32m    540\u001b[0m \u001b[0;34m\u001b[0m\u001b[0m\n",
      "\u001b[0;31mValueError\u001b[0m: could not convert string to float: 'CL5'"
     ]
    }
   ],
   "source": [
    "bag_model(df, 'Crack', 2, 20)"
   ]
  },
  {
   "cell_type": "code",
   "execution_count": null,
   "metadata": {},
   "outputs": [],
   "source": []
  },
  {
   "cell_type": "code",
   "execution_count": null,
   "metadata": {},
   "outputs": [],
   "source": []
  },
  {
   "cell_type": "code",
   "execution_count": null,
   "metadata": {},
   "outputs": [],
   "source": []
  },
  {
   "cell_type": "code",
   "execution_count": null,
   "metadata": {},
   "outputs": [],
   "source": []
  },
  {
   "cell_type": "code",
   "execution_count": null,
   "metadata": {},
   "outputs": [],
   "source": []
  }
 ],
 "metadata": {
  "kernelspec": {
   "display_name": "Python [conda env:learn-env] *",
   "language": "python",
   "name": "conda-env-learn-env-py"
  },
  "language_info": {
   "codemirror_mode": {
    "name": "ipython",
    "version": 3
   },
   "file_extension": ".py",
   "mimetype": "text/x-python",
   "name": "python",
   "nbconvert_exporter": "python",
   "pygments_lexer": "ipython3",
   "version": "3.6.6"
  }
 },
 "nbformat": 4,
 "nbformat_minor": 2
}
